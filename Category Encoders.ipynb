{
 "cells": [
  {
   "cell_type": "markdown",
   "id": "sought-joining",
   "metadata": {},
   "source": [
    "# Encoding Categorical Data before Running ML Model"
   ]
  },
  {
   "cell_type": "markdown",
   "id": "biblical-finding",
   "metadata": {},
   "source": [
    "### TASK : To Experiment and Implement with Different Types of Encoding to deal with Categorical Data "
   ]
  },
  {
   "cell_type": "markdown",
   "id": "rural-destruction",
   "metadata": {},
   "source": [
    "### In this blog we will explore and implement:"
   ]
  },
  {
   "cell_type": "markdown",
   "id": "robust-gender",
   "metadata": {},
   "source": [
    "- One hot Encoding using:\n",
    "    -Python's category_encoding library\n",
    "    -Sklearn Preprocessing\n",
    "    -Python's get_dummies\n",
    "- Binary Encoding\n",
    "- Frequency Encoding\n",
    "- Label Encoding\n",
    "- Ordinal Encoding"
   ]
  },
  {
   "cell_type": "markdown",
   "id": "increasing-society",
   "metadata": {},
   "source": [
    "### What is Categorical data"
   ]
  },
  {
   "cell_type": "markdown",
   "id": "distant-tender",
   "metadata": {},
   "source": [
    "Categorical data is a type of data that is used to group information with similar characteristics while Numerical data is a type of data that expresses information in the form of numbers.\n",
    "\n",
    "Example : Gender"
   ]
  },
  {
   "cell_type": "markdown",
   "id": "mobile-teddy",
   "metadata": {},
   "source": [
    "### Why do we need Encoding?"
   ]
  },
  {
   "cell_type": "markdown",
   "id": "harmful-headset",
   "metadata": {},
   "source": [
    "- Most of the Machine learning algorithms can not handle categorical variables unless we convert them to numerical values.\n",
    "\n",
    "- Many algorithm’s performances even vary based upon how the Categorical variables are encoded."
   ]
  },
  {
   "cell_type": "markdown",
   "id": "looking-casino",
   "metadata": {},
   "source": [
    "### Categorical variables can be divided into two categories: \n",
    "    \n",
    "- Nominal (No particular order)\n",
    "- Ordinal (some ordered)"
   ]
  },
  {
   "cell_type": "markdown",
   "id": "boolean-spirit",
   "metadata": {},
   "source": [
    "We will also refer a cheat sheet which shows when to use which type of encoding."
   ]
  },
  {
   "cell_type": "markdown",
   "id": "military-fleet",
   "metadata": {},
   "source": [
    "## Method : 1 : Using Python's category encoder library"
   ]
  },
  {
   "cell_type": "markdown",
   "id": "hundred-politics",
   "metadata": {},
   "source": [
    "category_encoders is an amazing python library that provides 15 different encoding schemes. "
   ]
  },
  {
   "cell_type": "markdown",
   "id": "distinct-guatemala",
   "metadata": {},
   "source": [
    "### Here, is the list of 15 types of encoding :\n",
    "    \n",
    "- One Hot Encoding\n",
    "- Label Encoding\n",
    "- Ordinal Encoding\n",
    "- Helmert Encoding\n",
    "- Binary Encoding\n",
    "- Frequency Encoding\n",
    "- Mean Encoding\n",
    "- Weight of Evidence Encoding\n",
    "- Probability Ratio Encoding\n",
    "- Hashing Encoding\n",
    "- Backward Difference Encoding\n",
    "- Leave One Out Encoding\n",
    "- James-Stein Encoding\n",
    "- M-estimator Encoding\n",
    "- Thermometer Encoder"
   ]
  },
  {
   "cell_type": "markdown",
   "id": "referenced-jones",
   "metadata": {},
   "source": [
    "### Importing Libraries"
   ]
  },
  {
   "cell_type": "code",
   "execution_count": 1,
   "id": "elect-jason",
   "metadata": {},
   "outputs": [],
   "source": [
    "import pandas as pd \n",
    "import sklearn"
   ]
  },
  {
   "cell_type": "code",
   "execution_count": 18,
   "id": "dying-distribution",
   "metadata": {},
   "outputs": [],
   "source": [
    "#pip install category_encoders"
   ]
  },
  {
   "cell_type": "code",
   "execution_count": 3,
   "id": "monetary-fraud",
   "metadata": {},
   "outputs": [],
   "source": [
    "import category_encoders as ce"
   ]
  },
  {
   "cell_type": "markdown",
   "id": "manual-wildlife",
   "metadata": {},
   "source": [
    "#### Creating Dataframe "
   ]
  },
  {
   "cell_type": "code",
   "execution_count": 129,
   "id": "considerable-scheme",
   "metadata": {},
   "outputs": [],
   "source": [
    "data = pd.DataFrame({ 'gender' : ['Male', 'Female', 'Male', 'Female', 'Female'],\n",
    "                      'class' : ['A','B','C','D','A'],\n",
    "                      'city' : ['Delhi','Gurugram','Delhi','Delhi','Gurugram'] }) "
   ]
  },
  {
   "cell_type": "code",
   "execution_count": 5,
   "id": "junior-strap",
   "metadata": {},
   "outputs": [
    {
     "data": {
      "text/html": [
       "<div>\n",
       "<style scoped>\n",
       "    .dataframe tbody tr th:only-of-type {\n",
       "        vertical-align: middle;\n",
       "    }\n",
       "\n",
       "    .dataframe tbody tr th {\n",
       "        vertical-align: top;\n",
       "    }\n",
       "\n",
       "    .dataframe thead th {\n",
       "        text-align: right;\n",
       "    }\n",
       "</style>\n",
       "<table border=\"1\" class=\"dataframe\">\n",
       "  <thead>\n",
       "    <tr style=\"text-align: right;\">\n",
       "      <th></th>\n",
       "      <th>gender</th>\n",
       "      <th>class</th>\n",
       "      <th>city</th>\n",
       "    </tr>\n",
       "  </thead>\n",
       "  <tbody>\n",
       "    <tr>\n",
       "      <th>0</th>\n",
       "      <td>Male</td>\n",
       "      <td>A</td>\n",
       "      <td>Delhi</td>\n",
       "    </tr>\n",
       "    <tr>\n",
       "      <th>1</th>\n",
       "      <td>Female</td>\n",
       "      <td>B</td>\n",
       "      <td>Gurugram</td>\n",
       "    </tr>\n",
       "    <tr>\n",
       "      <th>2</th>\n",
       "      <td>Male</td>\n",
       "      <td>C</td>\n",
       "      <td>Delhi</td>\n",
       "    </tr>\n",
       "    <tr>\n",
       "      <th>3</th>\n",
       "      <td>Female</td>\n",
       "      <td>D</td>\n",
       "      <td>Delhi</td>\n",
       "    </tr>\n",
       "    <tr>\n",
       "      <th>4</th>\n",
       "      <td>Female</td>\n",
       "      <td>A</td>\n",
       "      <td>Gurugram</td>\n",
       "    </tr>\n",
       "  </tbody>\n",
       "</table>\n",
       "</div>"
      ],
      "text/plain": [
       "   gender class      city\n",
       "0    Male     A     Delhi\n",
       "1  Female     B  Gurugram\n",
       "2    Male     C     Delhi\n",
       "3  Female     D     Delhi\n",
       "4  Female     A  Gurugram"
      ]
     },
     "execution_count": 5,
     "metadata": {},
     "output_type": "execute_result"
    }
   ],
   "source": [
    "data.head()"
   ]
  },
  {
   "cell_type": "markdown",
   "id": "contemporary-figure",
   "metadata": {},
   "source": [
    "#### Implementing One-Hot Encoding through category_encoder"
   ]
  },
  {
   "cell_type": "markdown",
   "id": "ignored-disabled",
   "metadata": {},
   "source": [
    "In this method, each category is mapped to a vector that contains 1 and 0 denoting the presence or absence of the feature. The number of vectors depends on the number of categories for features. "
   ]
  },
  {
   "cell_type": "code",
   "execution_count": 130,
   "id": "separate-cache",
   "metadata": {},
   "outputs": [
    {
     "name": "stderr",
     "output_type": "stream",
     "text": [
      "c:\\python39\\lib\\site-packages\\category_encoders\\utils.py:21: FutureWarning: is_categorical is deprecated and will be removed in a future version.  Use is_categorical_dtype instead\n",
      "  elif pd.api.types.is_categorical(cols):\n"
     ]
    },
    {
     "data": {
      "text/html": [
       "<div>\n",
       "<style scoped>\n",
       "    .dataframe tbody tr th:only-of-type {\n",
       "        vertical-align: middle;\n",
       "    }\n",
       "\n",
       "    .dataframe tbody tr th {\n",
       "        vertical-align: top;\n",
       "    }\n",
       "\n",
       "    .dataframe thead th {\n",
       "        text-align: right;\n",
       "    }\n",
       "</style>\n",
       "<table border=\"1\" class=\"dataframe\">\n",
       "  <thead>\n",
       "    <tr style=\"text-align: right;\">\n",
       "      <th></th>\n",
       "      <th>gender_1</th>\n",
       "      <th>gender_2</th>\n",
       "      <th>class</th>\n",
       "      <th>city_1</th>\n",
       "      <th>city_2</th>\n",
       "    </tr>\n",
       "  </thead>\n",
       "  <tbody>\n",
       "    <tr>\n",
       "      <th>0</th>\n",
       "      <td>1</td>\n",
       "      <td>0</td>\n",
       "      <td>A</td>\n",
       "      <td>1</td>\n",
       "      <td>0</td>\n",
       "    </tr>\n",
       "    <tr>\n",
       "      <th>1</th>\n",
       "      <td>0</td>\n",
       "      <td>1</td>\n",
       "      <td>B</td>\n",
       "      <td>0</td>\n",
       "      <td>1</td>\n",
       "    </tr>\n",
       "    <tr>\n",
       "      <th>2</th>\n",
       "      <td>1</td>\n",
       "      <td>0</td>\n",
       "      <td>C</td>\n",
       "      <td>1</td>\n",
       "      <td>0</td>\n",
       "    </tr>\n",
       "    <tr>\n",
       "      <th>3</th>\n",
       "      <td>0</td>\n",
       "      <td>1</td>\n",
       "      <td>D</td>\n",
       "      <td>1</td>\n",
       "      <td>0</td>\n",
       "    </tr>\n",
       "    <tr>\n",
       "      <th>4</th>\n",
       "      <td>0</td>\n",
       "      <td>1</td>\n",
       "      <td>A</td>\n",
       "      <td>0</td>\n",
       "      <td>1</td>\n",
       "    </tr>\n",
       "  </tbody>\n",
       "</table>\n",
       "</div>"
      ],
      "text/plain": [
       "   gender_1  gender_2 class  city_1  city_2\n",
       "0         1         0     A       1       0\n",
       "1         0         1     B       0       1\n",
       "2         1         0     C       1       0\n",
       "3         0         1     D       1       0\n",
       "4         0         1     A       0       1"
      ]
     },
     "execution_count": 130,
     "metadata": {},
     "output_type": "execute_result"
    }
   ],
   "source": [
    "# create an object of the One Hot Encoder \n",
    "\n",
    "ce_OHE = ce.OneHotEncoder(cols=['gender','city']) \n",
    "\n",
    "# transform the data \n",
    "data1 = ce_OHE.fit_transform(data)\n",
    "data1.head()"
   ]
  },
  {
   "cell_type": "markdown",
   "id": "lasting-point",
   "metadata": {},
   "source": [
    "## Binary Encoding"
   ]
  },
  {
   "cell_type": "markdown",
   "id": "bright-seattle",
   "metadata": {},
   "source": [
    "Binary encoding converts a category into binary digits. Each binary digit creates one feature column."
   ]
  },
  {
   "cell_type": "code",
   "execution_count": 88,
   "id": "younger-mitchell",
   "metadata": {},
   "outputs": [
    {
     "name": "stderr",
     "output_type": "stream",
     "text": [
      "c:\\python39\\lib\\site-packages\\category_encoders\\utils.py:21: FutureWarning: is_categorical is deprecated and will be removed in a future version.  Use is_categorical_dtype instead\n",
      "  elif pd.api.types.is_categorical(cols):\n"
     ]
    }
   ],
   "source": [
    "ce_be = ce.BinaryEncoder(cols=['class']);\n",
    "\n",
    "# transform the data \n",
    "data_binary = ce_be.fit_transform(data[\"class\"]);"
   ]
  },
  {
   "cell_type": "code",
   "execution_count": 91,
   "id": "drawn-surgery",
   "metadata": {},
   "outputs": [
    {
     "name": "stdout",
     "output_type": "stream",
     "text": [
      "0    A\n",
      "1    B\n",
      "2    C\n",
      "3    D\n",
      "4    A\n",
      "Name: class, dtype: object\n"
     ]
    },
    {
     "data": {
      "text/html": [
       "<div>\n",
       "<style scoped>\n",
       "    .dataframe tbody tr th:only-of-type {\n",
       "        vertical-align: middle;\n",
       "    }\n",
       "\n",
       "    .dataframe tbody tr th {\n",
       "        vertical-align: top;\n",
       "    }\n",
       "\n",
       "    .dataframe thead th {\n",
       "        text-align: right;\n",
       "    }\n",
       "</style>\n",
       "<table border=\"1\" class=\"dataframe\">\n",
       "  <thead>\n",
       "    <tr style=\"text-align: right;\">\n",
       "      <th></th>\n",
       "      <th>class_0</th>\n",
       "      <th>class_1</th>\n",
       "      <th>class_2</th>\n",
       "    </tr>\n",
       "  </thead>\n",
       "  <tbody>\n",
       "    <tr>\n",
       "      <th>0</th>\n",
       "      <td>0</td>\n",
       "      <td>0</td>\n",
       "      <td>1</td>\n",
       "    </tr>\n",
       "    <tr>\n",
       "      <th>1</th>\n",
       "      <td>0</td>\n",
       "      <td>1</td>\n",
       "      <td>0</td>\n",
       "    </tr>\n",
       "    <tr>\n",
       "      <th>2</th>\n",
       "      <td>0</td>\n",
       "      <td>1</td>\n",
       "      <td>1</td>\n",
       "    </tr>\n",
       "    <tr>\n",
       "      <th>3</th>\n",
       "      <td>1</td>\n",
       "      <td>0</td>\n",
       "      <td>0</td>\n",
       "    </tr>\n",
       "    <tr>\n",
       "      <th>4</th>\n",
       "      <td>0</td>\n",
       "      <td>0</td>\n",
       "      <td>1</td>\n",
       "    </tr>\n",
       "  </tbody>\n",
       "</table>\n",
       "</div>"
      ],
      "text/plain": [
       "   class_0  class_1  class_2\n",
       "0        0        0        1\n",
       "1        0        1        0\n",
       "2        0        1        1\n",
       "3        1        0        0\n",
       "4        0        0        1"
      ]
     },
     "execution_count": 91,
     "metadata": {},
     "output_type": "execute_result"
    }
   ],
   "source": [
    "print(data[\"class\"])\n",
    "data_binary"
   ]
  },
  {
   "cell_type": "markdown",
   "id": "analyzed-national",
   "metadata": {},
   "source": [
    "Similarly there are other 14 types of encoding provided by this library."
   ]
  },
  {
   "cell_type": "markdown",
   "id": "prospective-provision",
   "metadata": {},
   "source": [
    "## Method 2 : USING PYTHON'S GET DUMMIES"
   ]
  },
  {
   "cell_type": "code",
   "execution_count": 14,
   "id": "twelve-morocco",
   "metadata": {},
   "outputs": [
    {
     "data": {
      "text/html": [
       "<div>\n",
       "<style scoped>\n",
       "    .dataframe tbody tr th:only-of-type {\n",
       "        vertical-align: middle;\n",
       "    }\n",
       "\n",
       "    .dataframe tbody tr th {\n",
       "        vertical-align: top;\n",
       "    }\n",
       "\n",
       "    .dataframe thead th {\n",
       "        text-align: right;\n",
       "    }\n",
       "</style>\n",
       "<table border=\"1\" class=\"dataframe\">\n",
       "  <thead>\n",
       "    <tr style=\"text-align: right;\">\n",
       "      <th></th>\n",
       "      <th>class</th>\n",
       "      <th>gender_Female</th>\n",
       "      <th>gender_Male</th>\n",
       "      <th>city_Delhi</th>\n",
       "      <th>city_Gurugram</th>\n",
       "    </tr>\n",
       "  </thead>\n",
       "  <tbody>\n",
       "    <tr>\n",
       "      <th>0</th>\n",
       "      <td>A</td>\n",
       "      <td>0</td>\n",
       "      <td>1</td>\n",
       "      <td>1</td>\n",
       "      <td>0</td>\n",
       "    </tr>\n",
       "    <tr>\n",
       "      <th>1</th>\n",
       "      <td>B</td>\n",
       "      <td>1</td>\n",
       "      <td>0</td>\n",
       "      <td>0</td>\n",
       "      <td>1</td>\n",
       "    </tr>\n",
       "    <tr>\n",
       "      <th>2</th>\n",
       "      <td>C</td>\n",
       "      <td>0</td>\n",
       "      <td>1</td>\n",
       "      <td>1</td>\n",
       "      <td>0</td>\n",
       "    </tr>\n",
       "    <tr>\n",
       "      <th>3</th>\n",
       "      <td>D</td>\n",
       "      <td>1</td>\n",
       "      <td>0</td>\n",
       "      <td>1</td>\n",
       "      <td>0</td>\n",
       "    </tr>\n",
       "    <tr>\n",
       "      <th>4</th>\n",
       "      <td>A</td>\n",
       "      <td>1</td>\n",
       "      <td>0</td>\n",
       "      <td>0</td>\n",
       "      <td>1</td>\n",
       "    </tr>\n",
       "  </tbody>\n",
       "</table>\n",
       "</div>"
      ],
      "text/plain": [
       "  class  gender_Female  gender_Male  city_Delhi  city_Gurugram\n",
       "0     A              0            1           1              0\n",
       "1     B              1            0           0              1\n",
       "2     C              0            1           1              0\n",
       "3     D              1            0           1              0\n",
       "4     A              1            0           0              1"
      ]
     },
     "execution_count": 14,
     "metadata": {},
     "output_type": "execute_result"
    }
   ],
   "source": [
    "pd.get_dummies(data,columns=[\"gender\",\"city\"])"
   ]
  },
  {
   "cell_type": "markdown",
   "id": "dramatic-assurance",
   "metadata": {},
   "source": [
    "Asigning Prefix if we want to. Though it takes the default prefix too!"
   ]
  },
  {
   "cell_type": "code",
   "execution_count": 17,
   "id": "accomplished-explorer",
   "metadata": {},
   "outputs": [
    {
     "data": {
      "text/html": [
       "<div>\n",
       "<style scoped>\n",
       "    .dataframe tbody tr th:only-of-type {\n",
       "        vertical-align: middle;\n",
       "    }\n",
       "\n",
       "    .dataframe tbody tr th {\n",
       "        vertical-align: top;\n",
       "    }\n",
       "\n",
       "    .dataframe thead th {\n",
       "        text-align: right;\n",
       "    }\n",
       "</style>\n",
       "<table border=\"1\" class=\"dataframe\">\n",
       "  <thead>\n",
       "    <tr style=\"text-align: right;\">\n",
       "      <th></th>\n",
       "      <th>class</th>\n",
       "      <th>gen_Female</th>\n",
       "      <th>gen_Male</th>\n",
       "      <th>city_Delhi</th>\n",
       "      <th>city_Gurugram</th>\n",
       "    </tr>\n",
       "  </thead>\n",
       "  <tbody>\n",
       "    <tr>\n",
       "      <th>0</th>\n",
       "      <td>A</td>\n",
       "      <td>0</td>\n",
       "      <td>1</td>\n",
       "      <td>1</td>\n",
       "      <td>0</td>\n",
       "    </tr>\n",
       "    <tr>\n",
       "      <th>1</th>\n",
       "      <td>B</td>\n",
       "      <td>1</td>\n",
       "      <td>0</td>\n",
       "      <td>0</td>\n",
       "      <td>1</td>\n",
       "    </tr>\n",
       "    <tr>\n",
       "      <th>2</th>\n",
       "      <td>C</td>\n",
       "      <td>0</td>\n",
       "      <td>1</td>\n",
       "      <td>1</td>\n",
       "      <td>0</td>\n",
       "    </tr>\n",
       "    <tr>\n",
       "      <th>3</th>\n",
       "      <td>D</td>\n",
       "      <td>1</td>\n",
       "      <td>0</td>\n",
       "      <td>1</td>\n",
       "      <td>0</td>\n",
       "    </tr>\n",
       "    <tr>\n",
       "      <th>4</th>\n",
       "      <td>A</td>\n",
       "      <td>1</td>\n",
       "      <td>0</td>\n",
       "      <td>0</td>\n",
       "      <td>1</td>\n",
       "    </tr>\n",
       "  </tbody>\n",
       "</table>\n",
       "</div>"
      ],
      "text/plain": [
       "  class  gen_Female  gen_Male  city_Delhi  city_Gurugram\n",
       "0     A           0         1           1              0\n",
       "1     B           1         0           0              1\n",
       "2     C           0         1           1              0\n",
       "3     D           1         0           1              0\n",
       "4     A           1         0           0              1"
      ]
     },
     "execution_count": 17,
     "metadata": {},
     "output_type": "execute_result"
    }
   ],
   "source": [
    "pd.get_dummies(data,prefix=[\"gen\",\"city\"],columns=[\"gender\",\"city\"])  "
   ]
  },
  {
   "cell_type": "markdown",
   "id": "further-peninsula",
   "metadata": {},
   "source": [
    "##  METHOD 3 : USING SKLEARN "
   ]
  },
  {
   "cell_type": "markdown",
   "id": "infinite-school",
   "metadata": {},
   "source": [
    "sklearn also has 15  different type of inbuilt encoders , which can be accessed from sklear.preprocessing."
   ]
  },
  {
   "cell_type": "markdown",
   "id": "pharmaceutical-treasurer",
   "metadata": {},
   "source": [
    "### SKLEARN ONE HOT ENCODING"
   ]
  },
  {
   "cell_type": "markdown",
   "id": "prompt-hungarian",
   "metadata": {},
   "source": [
    "#### lets first Get list of categorical variables from our data"
   ]
  },
  {
   "cell_type": "code",
   "execution_count": 9,
   "id": "patient-presence",
   "metadata": {},
   "outputs": [],
   "source": [
    "s = (data.dtypes == 'object')\n",
    "cols = list(s[s].index)\n"
   ]
  },
  {
   "cell_type": "code",
   "execution_count": 133,
   "id": "attached-columbus",
   "metadata": {},
   "outputs": [],
   "source": [
    "from sklearn.preprocessing import OneHotEncoder\n",
    "\n",
    "ohe = OneHotEncoder(handle_unknown='ignore',sparse=False)"
   ]
  },
  {
   "cell_type": "markdown",
   "id": "lyric-kingdom",
   "metadata": {},
   "source": [
    "#### Applying on gender column"
   ]
  },
  {
   "cell_type": "code",
   "execution_count": 132,
   "id": "collectible-front",
   "metadata": {},
   "outputs": [
    {
     "data": {
      "text/html": [
       "<div>\n",
       "<style scoped>\n",
       "    .dataframe tbody tr th:only-of-type {\n",
       "        vertical-align: middle;\n",
       "    }\n",
       "\n",
       "    .dataframe tbody tr th {\n",
       "        vertical-align: top;\n",
       "    }\n",
       "\n",
       "    .dataframe thead th {\n",
       "        text-align: right;\n",
       "    }\n",
       "</style>\n",
       "<table border=\"1\" class=\"dataframe\">\n",
       "  <thead>\n",
       "    <tr style=\"text-align: right;\">\n",
       "      <th></th>\n",
       "      <th>0</th>\n",
       "      <th>1</th>\n",
       "    </tr>\n",
       "  </thead>\n",
       "  <tbody>\n",
       "    <tr>\n",
       "      <th>0</th>\n",
       "      <td>0.0</td>\n",
       "      <td>1.0</td>\n",
       "    </tr>\n",
       "    <tr>\n",
       "      <th>1</th>\n",
       "      <td>1.0</td>\n",
       "      <td>0.0</td>\n",
       "    </tr>\n",
       "    <tr>\n",
       "      <th>2</th>\n",
       "      <td>0.0</td>\n",
       "      <td>1.0</td>\n",
       "    </tr>\n",
       "    <tr>\n",
       "      <th>3</th>\n",
       "      <td>1.0</td>\n",
       "      <td>0.0</td>\n",
       "    </tr>\n",
       "    <tr>\n",
       "      <th>4</th>\n",
       "      <td>1.0</td>\n",
       "      <td>0.0</td>\n",
       "    </tr>\n",
       "  </tbody>\n",
       "</table>\n",
       "</div>"
      ],
      "text/plain": [
       "     0    1\n",
       "0  0.0  1.0\n",
       "1  1.0  0.0\n",
       "2  0.0  1.0\n",
       "3  1.0  0.0\n",
       "4  1.0  0.0"
      ]
     },
     "execution_count": 132,
     "metadata": {},
     "output_type": "execute_result"
    }
   ],
   "source": [
    "data_gender = pd.DataFrame(ohe.fit_transform(data[[\"gender\"]]))\n",
    "\n",
    "data_gender"
   ]
  },
  {
   "cell_type": "markdown",
   "id": "domestic-funeral",
   "metadata": {},
   "source": [
    "#### Applying on City Column"
   ]
  },
  {
   "cell_type": "code",
   "execution_count": 131,
   "id": "compound-flexibility",
   "metadata": {},
   "outputs": [
    {
     "data": {
      "text/html": [
       "<div>\n",
       "<style scoped>\n",
       "    .dataframe tbody tr th:only-of-type {\n",
       "        vertical-align: middle;\n",
       "    }\n",
       "\n",
       "    .dataframe tbody tr th {\n",
       "        vertical-align: top;\n",
       "    }\n",
       "\n",
       "    .dataframe thead th {\n",
       "        text-align: right;\n",
       "    }\n",
       "</style>\n",
       "<table border=\"1\" class=\"dataframe\">\n",
       "  <thead>\n",
       "    <tr style=\"text-align: right;\">\n",
       "      <th></th>\n",
       "      <th>0</th>\n",
       "      <th>1</th>\n",
       "    </tr>\n",
       "  </thead>\n",
       "  <tbody>\n",
       "    <tr>\n",
       "      <th>0</th>\n",
       "      <td>1.0</td>\n",
       "      <td>0.0</td>\n",
       "    </tr>\n",
       "    <tr>\n",
       "      <th>1</th>\n",
       "      <td>0.0</td>\n",
       "      <td>1.0</td>\n",
       "    </tr>\n",
       "    <tr>\n",
       "      <th>2</th>\n",
       "      <td>1.0</td>\n",
       "      <td>0.0</td>\n",
       "    </tr>\n",
       "    <tr>\n",
       "      <th>3</th>\n",
       "      <td>1.0</td>\n",
       "      <td>0.0</td>\n",
       "    </tr>\n",
       "    <tr>\n",
       "      <th>4</th>\n",
       "      <td>0.0</td>\n",
       "      <td>1.0</td>\n",
       "    </tr>\n",
       "  </tbody>\n",
       "</table>\n",
       "</div>"
      ],
      "text/plain": [
       "     0    1\n",
       "0  1.0  0.0\n",
       "1  0.0  1.0\n",
       "2  1.0  0.0\n",
       "3  1.0  0.0\n",
       "4  0.0  1.0"
      ]
     },
     "execution_count": 131,
     "metadata": {},
     "output_type": "execute_result"
    }
   ],
   "source": [
    "data_city = pd.DataFrame(ohe.fit_transform(data[[\"city\"]]))\n",
    "\n",
    "data_city"
   ]
  },
  {
   "cell_type": "markdown",
   "id": "found-assist",
   "metadata": {},
   "source": [
    "#### Applying on class column"
   ]
  },
  {
   "cell_type": "code",
   "execution_count": 30,
   "id": "accomplished-theme",
   "metadata": {},
   "outputs": [
    {
     "data": {
      "text/html": [
       "<div>\n",
       "<style scoped>\n",
       "    .dataframe tbody tr th:only-of-type {\n",
       "        vertical-align: middle;\n",
       "    }\n",
       "\n",
       "    .dataframe tbody tr th {\n",
       "        vertical-align: top;\n",
       "    }\n",
       "\n",
       "    .dataframe thead th {\n",
       "        text-align: right;\n",
       "    }\n",
       "</style>\n",
       "<table border=\"1\" class=\"dataframe\">\n",
       "  <thead>\n",
       "    <tr style=\"text-align: right;\">\n",
       "      <th></th>\n",
       "      <th>0</th>\n",
       "      <th>1</th>\n",
       "      <th>2</th>\n",
       "      <th>3</th>\n",
       "    </tr>\n",
       "  </thead>\n",
       "  <tbody>\n",
       "    <tr>\n",
       "      <th>0</th>\n",
       "      <td>1.0</td>\n",
       "      <td>0.0</td>\n",
       "      <td>0.0</td>\n",
       "      <td>0.0</td>\n",
       "    </tr>\n",
       "    <tr>\n",
       "      <th>1</th>\n",
       "      <td>0.0</td>\n",
       "      <td>1.0</td>\n",
       "      <td>0.0</td>\n",
       "      <td>0.0</td>\n",
       "    </tr>\n",
       "    <tr>\n",
       "      <th>2</th>\n",
       "      <td>0.0</td>\n",
       "      <td>0.0</td>\n",
       "      <td>1.0</td>\n",
       "      <td>0.0</td>\n",
       "    </tr>\n",
       "    <tr>\n",
       "      <th>3</th>\n",
       "      <td>0.0</td>\n",
       "      <td>0.0</td>\n",
       "      <td>0.0</td>\n",
       "      <td>1.0</td>\n",
       "    </tr>\n",
       "    <tr>\n",
       "      <th>4</th>\n",
       "      <td>1.0</td>\n",
       "      <td>0.0</td>\n",
       "      <td>0.0</td>\n",
       "      <td>0.0</td>\n",
       "    </tr>\n",
       "  </tbody>\n",
       "</table>\n",
       "</div>"
      ],
      "text/plain": [
       "     0    1    2    3\n",
       "0  1.0  0.0  0.0  0.0\n",
       "1  0.0  1.0  0.0  0.0\n",
       "2  0.0  0.0  1.0  0.0\n",
       "3  0.0  0.0  0.0  1.0\n",
       "4  1.0  0.0  0.0  0.0"
      ]
     },
     "execution_count": 30,
     "metadata": {},
     "output_type": "execute_result"
    }
   ],
   "source": [
    "data_class = pd.DataFrame(ohe.fit_transform(data[[\"class\"]]))\n",
    "\n",
    "data_class"
   ]
  },
  {
   "cell_type": "markdown",
   "id": "rental-function",
   "metadata": {},
   "source": [
    "This is because the class column have 4 unique values"
   ]
  },
  {
   "cell_type": "markdown",
   "id": "popular-franchise",
   "metadata": {},
   "source": [
    "#### Applying on list of categorical variables:"
   ]
  },
  {
   "cell_type": "code",
   "execution_count": 27,
   "id": "multiple-mapping",
   "metadata": {},
   "outputs": [
    {
     "data": {
      "text/html": [
       "<div>\n",
       "<style scoped>\n",
       "    .dataframe tbody tr th:only-of-type {\n",
       "        vertical-align: middle;\n",
       "    }\n",
       "\n",
       "    .dataframe tbody tr th {\n",
       "        vertical-align: top;\n",
       "    }\n",
       "\n",
       "    .dataframe thead th {\n",
       "        text-align: right;\n",
       "    }\n",
       "</style>\n",
       "<table border=\"1\" class=\"dataframe\">\n",
       "  <thead>\n",
       "    <tr style=\"text-align: right;\">\n",
       "      <th></th>\n",
       "      <th>0</th>\n",
       "      <th>1</th>\n",
       "      <th>2</th>\n",
       "      <th>3</th>\n",
       "      <th>4</th>\n",
       "      <th>5</th>\n",
       "      <th>6</th>\n",
       "      <th>7</th>\n",
       "    </tr>\n",
       "  </thead>\n",
       "  <tbody>\n",
       "    <tr>\n",
       "      <th>0</th>\n",
       "      <td>0.0</td>\n",
       "      <td>1.0</td>\n",
       "      <td>1.0</td>\n",
       "      <td>0.0</td>\n",
       "      <td>0.0</td>\n",
       "      <td>0.0</td>\n",
       "      <td>1.0</td>\n",
       "      <td>0.0</td>\n",
       "    </tr>\n",
       "    <tr>\n",
       "      <th>1</th>\n",
       "      <td>1.0</td>\n",
       "      <td>0.0</td>\n",
       "      <td>0.0</td>\n",
       "      <td>1.0</td>\n",
       "      <td>0.0</td>\n",
       "      <td>0.0</td>\n",
       "      <td>0.0</td>\n",
       "      <td>1.0</td>\n",
       "    </tr>\n",
       "    <tr>\n",
       "      <th>2</th>\n",
       "      <td>0.0</td>\n",
       "      <td>1.0</td>\n",
       "      <td>0.0</td>\n",
       "      <td>0.0</td>\n",
       "      <td>1.0</td>\n",
       "      <td>0.0</td>\n",
       "      <td>1.0</td>\n",
       "      <td>0.0</td>\n",
       "    </tr>\n",
       "    <tr>\n",
       "      <th>3</th>\n",
       "      <td>1.0</td>\n",
       "      <td>0.0</td>\n",
       "      <td>0.0</td>\n",
       "      <td>0.0</td>\n",
       "      <td>0.0</td>\n",
       "      <td>1.0</td>\n",
       "      <td>1.0</td>\n",
       "      <td>0.0</td>\n",
       "    </tr>\n",
       "    <tr>\n",
       "      <th>4</th>\n",
       "      <td>1.0</td>\n",
       "      <td>0.0</td>\n",
       "      <td>1.0</td>\n",
       "      <td>0.0</td>\n",
       "      <td>0.0</td>\n",
       "      <td>0.0</td>\n",
       "      <td>0.0</td>\n",
       "      <td>1.0</td>\n",
       "    </tr>\n",
       "  </tbody>\n",
       "</table>\n",
       "</div>"
      ],
      "text/plain": [
       "     0    1    2    3    4    5    6    7\n",
       "0  0.0  1.0  1.0  0.0  0.0  0.0  1.0  0.0\n",
       "1  1.0  0.0  0.0  1.0  0.0  0.0  0.0  1.0\n",
       "2  0.0  1.0  0.0  0.0  1.0  0.0  1.0  0.0\n",
       "3  1.0  0.0  0.0  0.0  0.0  1.0  1.0  0.0\n",
       "4  1.0  0.0  1.0  0.0  0.0  0.0  0.0  1.0"
      ]
     },
     "execution_count": 27,
     "metadata": {},
     "output_type": "execute_result"
    }
   ],
   "source": [
    "data_cols = pd.DataFrame(ohe.fit_transform(data[cols]))\n",
    "\n",
    "data_cols"
   ]
  },
  {
   "cell_type": "markdown",
   "id": "ultimate-drilling",
   "metadata": {},
   "source": [
    "here the first 2 columns reprsent :gender , next 4 columns represent class  and remaining 2 of city"
   ]
  },
  {
   "cell_type": "markdown",
   "id": "neural-local",
   "metadata": {},
   "source": [
    "### SKLEARN Label Encoding"
   ]
  },
  {
   "cell_type": "markdown",
   "id": "intimate-bankruptcy",
   "metadata": {},
   "source": [
    "In label encoding , each category is assigned a value from 1 through N where N is the number of categories for the feature.\n",
    "There is no relation or order between these assignments."
   ]
  },
  {
   "cell_type": "code",
   "execution_count": 135,
   "id": "nervous-thirty",
   "metadata": {},
   "outputs": [],
   "source": [
    "from sklearn.preprocessing import LabelEncoder\n",
    "\n",
    "le = LabelEncoder()     #Takes no arguments"
   ]
  },
  {
   "cell_type": "code",
   "execution_count": 134,
   "id": "differential-original",
   "metadata": {},
   "outputs": [
    {
     "name": "stderr",
     "output_type": "stream",
     "text": [
      "c:\\python39\\lib\\site-packages\\sklearn\\utils\\validation.py:63: DataConversionWarning: A column-vector y was passed when a 1d array was expected. Please change the shape of y to (n_samples, ), for example using ravel().\n",
      "  return f(*args, **kwargs)\n"
     ]
    },
    {
     "data": {
      "text/plain": [
       "array([0, 1, 2, 3, 0])"
      ]
     },
     "execution_count": 134,
     "metadata": {},
     "output_type": "execute_result"
    }
   ],
   "source": [
    "le_class = le.fit_transform(data[[\"class\"]]);\n",
    "\n",
    "le_class"
   ]
  },
  {
   "cell_type": "markdown",
   "id": "revised-lawrence",
   "metadata": {},
   "source": [
    "#### Comparing with one hot encoding"
   ]
  },
  {
   "cell_type": "code",
   "execution_count": 39,
   "id": "realistic-shoulder",
   "metadata": {},
   "outputs": [
    {
     "data": {
      "text/html": [
       "<div>\n",
       "<style scoped>\n",
       "    .dataframe tbody tr th:only-of-type {\n",
       "        vertical-align: middle;\n",
       "    }\n",
       "\n",
       "    .dataframe tbody tr th {\n",
       "        vertical-align: top;\n",
       "    }\n",
       "\n",
       "    .dataframe thead th {\n",
       "        text-align: right;\n",
       "    }\n",
       "</style>\n",
       "<table border=\"1\" class=\"dataframe\">\n",
       "  <thead>\n",
       "    <tr style=\"text-align: right;\">\n",
       "      <th></th>\n",
       "      <th>0</th>\n",
       "      <th>1</th>\n",
       "      <th>2</th>\n",
       "      <th>3</th>\n",
       "    </tr>\n",
       "  </thead>\n",
       "  <tbody>\n",
       "    <tr>\n",
       "      <th>0</th>\n",
       "      <td>1.0</td>\n",
       "      <td>0.0</td>\n",
       "      <td>0.0</td>\n",
       "      <td>0.0</td>\n",
       "    </tr>\n",
       "    <tr>\n",
       "      <th>1</th>\n",
       "      <td>0.0</td>\n",
       "      <td>1.0</td>\n",
       "      <td>0.0</td>\n",
       "      <td>0.0</td>\n",
       "    </tr>\n",
       "    <tr>\n",
       "      <th>2</th>\n",
       "      <td>0.0</td>\n",
       "      <td>0.0</td>\n",
       "      <td>1.0</td>\n",
       "      <td>0.0</td>\n",
       "    </tr>\n",
       "    <tr>\n",
       "      <th>3</th>\n",
       "      <td>0.0</td>\n",
       "      <td>0.0</td>\n",
       "      <td>0.0</td>\n",
       "      <td>1.0</td>\n",
       "    </tr>\n",
       "    <tr>\n",
       "      <th>4</th>\n",
       "      <td>1.0</td>\n",
       "      <td>0.0</td>\n",
       "      <td>0.0</td>\n",
       "      <td>0.0</td>\n",
       "    </tr>\n",
       "  </tbody>\n",
       "</table>\n",
       "</div>"
      ],
      "text/plain": [
       "     0    1    2    3\n",
       "0  1.0  0.0  0.0  0.0\n",
       "1  0.0  1.0  0.0  0.0\n",
       "2  0.0  0.0  1.0  0.0\n",
       "3  0.0  0.0  0.0  1.0\n",
       "4  1.0  0.0  0.0  0.0"
      ]
     },
     "execution_count": 39,
     "metadata": {},
     "output_type": "execute_result"
    }
   ],
   "source": [
    "data_class"
   ]
  },
  {
   "cell_type": "markdown",
   "id": "unusual-casino",
   "metadata": {},
   "source": [
    "### ORDINAL ENCODING"
   ]
  },
  {
   "cell_type": "markdown",
   "id": "devoted-diagram",
   "metadata": {},
   "source": [
    "Ordinal encoding's encoded variables retains the ordinal(ordered) nature of the variable.\n",
    "It looks almost similar to Label Encoding. Only difference being Label coding doesnt consider whether variable is ordinal or not, it will anyways assign sequence of integers"
   ]
  },
  {
   "cell_type": "markdown",
   "id": "present-jewel",
   "metadata": {},
   "source": [
    "#### Example : Ordinal encoding will assign values as Very Good(1)<Good(2)<Bad(3)<Worse(4)"
   ]
  },
  {
   "cell_type": "markdown",
   "id": "dated-sample",
   "metadata": {},
   "source": [
    "First we need to assign the original order of the variable through a dictionary."
   ]
  },
  {
   "cell_type": "code",
   "execution_count": 77,
   "id": "royal-anxiety",
   "metadata": {},
   "outputs": [],
   "source": [
    "temp = {'temperature' :['very cold', 'cold', 'warm', 'hot', 'very hot']}\n",
    "\n",
    "df=pd.DataFrame(temp,columns=[\"temperature\"])\n",
    "\n",
    "temp_dict = {\n",
    "    'very cold': 1,\n",
    "    'cold': 2,\n",
    "    'warm': 3,\n",
    "    'hot': 4,\n",
    "    \"very hot\": 5\n",
    "}"
   ]
  },
  {
   "cell_type": "code",
   "execution_count": 80,
   "id": "educated-maine",
   "metadata": {},
   "outputs": [
    {
     "data": {
      "text/plain": [
       "{'very cold': 1, 'cold': 2, 'warm': 3, 'hot': 4, 'very hot': 5}"
      ]
     },
     "execution_count": 80,
     "metadata": {},
     "output_type": "execute_result"
    }
   ],
   "source": [
    "temp_dict"
   ]
  },
  {
   "cell_type": "code",
   "execution_count": 78,
   "id": "exterior-silver",
   "metadata": {},
   "outputs": [
    {
     "data": {
      "text/plain": [
       "{'temperature': ['very cold', 'cold', 'warm', 'hot', 'very hot']}"
      ]
     },
     "execution_count": 78,
     "metadata": {},
     "output_type": "execute_result"
    }
   ],
   "source": [
    "temp"
   ]
  },
  {
   "cell_type": "code",
   "execution_count": 81,
   "id": "chemical-white",
   "metadata": {},
   "outputs": [
    {
     "data": {
      "text/html": [
       "<div>\n",
       "<style scoped>\n",
       "    .dataframe tbody tr th:only-of-type {\n",
       "        vertical-align: middle;\n",
       "    }\n",
       "\n",
       "    .dataframe tbody tr th {\n",
       "        vertical-align: top;\n",
       "    }\n",
       "\n",
       "    .dataframe thead th {\n",
       "        text-align: right;\n",
       "    }\n",
       "</style>\n",
       "<table border=\"1\" class=\"dataframe\">\n",
       "  <thead>\n",
       "    <tr style=\"text-align: right;\">\n",
       "      <th></th>\n",
       "      <th>temperature</th>\n",
       "    </tr>\n",
       "  </thead>\n",
       "  <tbody>\n",
       "    <tr>\n",
       "      <th>0</th>\n",
       "      <td>very cold</td>\n",
       "    </tr>\n",
       "    <tr>\n",
       "      <th>1</th>\n",
       "      <td>cold</td>\n",
       "    </tr>\n",
       "    <tr>\n",
       "      <th>2</th>\n",
       "      <td>warm</td>\n",
       "    </tr>\n",
       "    <tr>\n",
       "      <th>3</th>\n",
       "      <td>hot</td>\n",
       "    </tr>\n",
       "    <tr>\n",
       "      <th>4</th>\n",
       "      <td>very hot</td>\n",
       "    </tr>\n",
       "  </tbody>\n",
       "</table>\n",
       "</div>"
      ],
      "text/plain": [
       "  temperature\n",
       "0   very cold\n",
       "1        cold\n",
       "2        warm\n",
       "3         hot\n",
       "4    very hot"
      ]
     },
     "execution_count": 81,
     "metadata": {},
     "output_type": "execute_result"
    }
   ],
   "source": [
    "df"
   ]
  },
  {
   "cell_type": "markdown",
   "id": "assumed-application",
   "metadata": {},
   "source": [
    " Then we can map each row for the variable as per the dictionary."
   ]
  },
  {
   "cell_type": "code",
   "execution_count": 84,
   "id": "outer-shoot",
   "metadata": {},
   "outputs": [],
   "source": [
    "df[\"temp_ordinal\"] = df.temperature.map(temp_dict)"
   ]
  },
  {
   "cell_type": "code",
   "execution_count": 85,
   "id": "featured-concentrate",
   "metadata": {},
   "outputs": [
    {
     "data": {
      "text/html": [
       "<div>\n",
       "<style scoped>\n",
       "    .dataframe tbody tr th:only-of-type {\n",
       "        vertical-align: middle;\n",
       "    }\n",
       "\n",
       "    .dataframe tbody tr th {\n",
       "        vertical-align: top;\n",
       "    }\n",
       "\n",
       "    .dataframe thead th {\n",
       "        text-align: right;\n",
       "    }\n",
       "</style>\n",
       "<table border=\"1\" class=\"dataframe\">\n",
       "  <thead>\n",
       "    <tr style=\"text-align: right;\">\n",
       "      <th></th>\n",
       "      <th>temperature</th>\n",
       "      <th>temp_ordinal</th>\n",
       "    </tr>\n",
       "  </thead>\n",
       "  <tbody>\n",
       "    <tr>\n",
       "      <th>0</th>\n",
       "      <td>very cold</td>\n",
       "      <td>1</td>\n",
       "    </tr>\n",
       "    <tr>\n",
       "      <th>1</th>\n",
       "      <td>cold</td>\n",
       "      <td>2</td>\n",
       "    </tr>\n",
       "    <tr>\n",
       "      <th>2</th>\n",
       "      <td>warm</td>\n",
       "      <td>3</td>\n",
       "    </tr>\n",
       "    <tr>\n",
       "      <th>3</th>\n",
       "      <td>hot</td>\n",
       "      <td>4</td>\n",
       "    </tr>\n",
       "    <tr>\n",
       "      <th>4</th>\n",
       "      <td>very hot</td>\n",
       "      <td>5</td>\n",
       "    </tr>\n",
       "  </tbody>\n",
       "</table>\n",
       "</div>"
      ],
      "text/plain": [
       "  temperature  temp_ordinal\n",
       "0   very cold             1\n",
       "1        cold             2\n",
       "2        warm             3\n",
       "3         hot             4\n",
       "4    very hot             5"
      ]
     },
     "execution_count": 85,
     "metadata": {},
     "output_type": "execute_result"
    }
   ],
   "source": [
    "df"
   ]
  },
  {
   "cell_type": "markdown",
   "id": "leading-maximum",
   "metadata": {},
   "source": [
    "## Frequency Encoding"
   ]
  },
  {
   "cell_type": "markdown",
   "id": "domestic-vintage",
   "metadata": {},
   "source": [
    "Category is assigned as per the frequency of value in its total lot"
   ]
  },
  {
   "cell_type": "code",
   "execution_count": 122,
   "id": "square-texture",
   "metadata": {},
   "outputs": [],
   "source": [
    "data_freq = pd.DataFrame({'class' : ['A','B','C','D','A',\"B\",\"E\",\"E\",\"D\",\"C\",\"C\",\"C\",\"E\",\"A\",\"A\"]})"
   ]
  },
  {
   "cell_type": "code",
   "execution_count": 123,
   "id": "common-employment",
   "metadata": {},
   "outputs": [
    {
     "data": {
      "text/plain": [
       "class\n",
       "A    4\n",
       "B    2\n",
       "C    4\n",
       "D    2\n",
       "E    3\n",
       "dtype: int64"
      ]
     },
     "execution_count": 123,
     "metadata": {},
     "output_type": "execute_result"
    }
   ],
   "source": [
    "fe = data_freq.groupby(\"class\").size()\n",
    "fe"
   ]
  },
  {
   "cell_type": "code",
   "execution_count": 124,
   "id": "direct-recipe",
   "metadata": {},
   "outputs": [
    {
     "data": {
      "text/plain": [
       "15"
      ]
     },
     "execution_count": 124,
     "metadata": {},
     "output_type": "execute_result"
    }
   ],
   "source": [
    "len(data_freq)"
   ]
  },
  {
   "cell_type": "code",
   "execution_count": 125,
   "id": "prime-circular",
   "metadata": {},
   "outputs": [],
   "source": [
    "fe_ = fe/len(data_freq)"
   ]
  },
  {
   "cell_type": "code",
   "execution_count": 126,
   "id": "occupied-thailand",
   "metadata": {},
   "outputs": [],
   "source": [
    "data_freq[\"data_fe\"] = data_freq[\"class\"].map(fe_).round(2)"
   ]
  },
  {
   "cell_type": "code",
   "execution_count": 127,
   "id": "electrical-filename",
   "metadata": {},
   "outputs": [
    {
     "data": {
      "text/html": [
       "<div>\n",
       "<style scoped>\n",
       "    .dataframe tbody tr th:only-of-type {\n",
       "        vertical-align: middle;\n",
       "    }\n",
       "\n",
       "    .dataframe tbody tr th {\n",
       "        vertical-align: top;\n",
       "    }\n",
       "\n",
       "    .dataframe thead th {\n",
       "        text-align: right;\n",
       "    }\n",
       "</style>\n",
       "<table border=\"1\" class=\"dataframe\">\n",
       "  <thead>\n",
       "    <tr style=\"text-align: right;\">\n",
       "      <th></th>\n",
       "      <th>class</th>\n",
       "      <th>data_fe</th>\n",
       "    </tr>\n",
       "  </thead>\n",
       "  <tbody>\n",
       "    <tr>\n",
       "      <th>0</th>\n",
       "      <td>A</td>\n",
       "      <td>0.27</td>\n",
       "    </tr>\n",
       "    <tr>\n",
       "      <th>1</th>\n",
       "      <td>B</td>\n",
       "      <td>0.13</td>\n",
       "    </tr>\n",
       "    <tr>\n",
       "      <th>2</th>\n",
       "      <td>C</td>\n",
       "      <td>0.27</td>\n",
       "    </tr>\n",
       "    <tr>\n",
       "      <th>3</th>\n",
       "      <td>D</td>\n",
       "      <td>0.13</td>\n",
       "    </tr>\n",
       "    <tr>\n",
       "      <th>4</th>\n",
       "      <td>A</td>\n",
       "      <td>0.27</td>\n",
       "    </tr>\n",
       "    <tr>\n",
       "      <th>5</th>\n",
       "      <td>B</td>\n",
       "      <td>0.13</td>\n",
       "    </tr>\n",
       "    <tr>\n",
       "      <th>6</th>\n",
       "      <td>E</td>\n",
       "      <td>0.20</td>\n",
       "    </tr>\n",
       "    <tr>\n",
       "      <th>7</th>\n",
       "      <td>E</td>\n",
       "      <td>0.20</td>\n",
       "    </tr>\n",
       "    <tr>\n",
       "      <th>8</th>\n",
       "      <td>D</td>\n",
       "      <td>0.13</td>\n",
       "    </tr>\n",
       "    <tr>\n",
       "      <th>9</th>\n",
       "      <td>C</td>\n",
       "      <td>0.27</td>\n",
       "    </tr>\n",
       "    <tr>\n",
       "      <th>10</th>\n",
       "      <td>C</td>\n",
       "      <td>0.27</td>\n",
       "    </tr>\n",
       "    <tr>\n",
       "      <th>11</th>\n",
       "      <td>C</td>\n",
       "      <td>0.27</td>\n",
       "    </tr>\n",
       "    <tr>\n",
       "      <th>12</th>\n",
       "      <td>E</td>\n",
       "      <td>0.20</td>\n",
       "    </tr>\n",
       "    <tr>\n",
       "      <th>13</th>\n",
       "      <td>A</td>\n",
       "      <td>0.27</td>\n",
       "    </tr>\n",
       "    <tr>\n",
       "      <th>14</th>\n",
       "      <td>A</td>\n",
       "      <td>0.27</td>\n",
       "    </tr>\n",
       "  </tbody>\n",
       "</table>\n",
       "</div>"
      ],
      "text/plain": [
       "   class  data_fe\n",
       "0      A     0.27\n",
       "1      B     0.13\n",
       "2      C     0.27\n",
       "3      D     0.13\n",
       "4      A     0.27\n",
       "5      B     0.13\n",
       "6      E     0.20\n",
       "7      E     0.20\n",
       "8      D     0.13\n",
       "9      C     0.27\n",
       "10     C     0.27\n",
       "11     C     0.27\n",
       "12     E     0.20\n",
       "13     A     0.27\n",
       "14     A     0.27"
      ]
     },
     "execution_count": 127,
     "metadata": {},
     "output_type": "execute_result"
    }
   ],
   "source": [
    "data_freq"
   ]
  },
  {
   "cell_type": "markdown",
   "id": "concrete-crowd",
   "metadata": {},
   "source": [
    "We saw 5 types of encoding schemes. Similarly there are 10 other type of encoding :\n",
    "    \n",
    "    \n",
    "- Helmert Encoding\n",
    "- Mean Encoding\n",
    "- Weight of Evidence Encoding\n",
    "- Probability Ratio Encoding\n",
    "- Hashing Encoding\n",
    "- Backward Difference Encoding\n",
    "- Leave One Out Encoding\n",
    "- James-Stein Encoding\n",
    "- M-estimator Encoding\n",
    "- Thermometer Encoder"
   ]
  },
  {
   "cell_type": "markdown",
   "id": "unusual-stereo",
   "metadata": {},
   "source": [
    "### Which One is Best then ?"
   ]
  },
  {
   "cell_type": "markdown",
   "id": "trying-dating",
   "metadata": {},
   "source": [
    "There is no single method that works best for every problem or dataset. I personally think that get_dummies method has an advantage in its ability to implement very easily."
   ]
  },
  {
   "cell_type": "markdown",
   "id": "blind-berry",
   "metadata": {},
   "source": [
    "### Read about all the 15 types of encoding in detail here:"
   ]
  },
  {
   "cell_type": "markdown",
   "id": "tracked-delight",
   "metadata": {},
   "source": [
    "If you want to read about all the 15 types of encoding here is a very good article to refer: https://towardsdatascience.com/all-about-categorical-variable-encoding-305f3361fd02\n",
    "\n",
    "I am also attaching a cheat sheet on when to use what type of encoding. "
   ]
  },
  {
   "cell_type": "code",
   "execution_count": null,
   "id": "limited-completion",
   "metadata": {},
   "outputs": [],
   "source": []
  }
 ],
 "metadata": {
  "kernelspec": {
   "display_name": "Python 3",
   "language": "python",
   "name": "python3"
  },
  "language_info": {
   "codemirror_mode": {
    "name": "ipython",
    "version": 3
   },
   "file_extension": ".py",
   "mimetype": "text/x-python",
   "name": "python",
   "nbconvert_exporter": "python",
   "pygments_lexer": "ipython3",
   "version": "3.9.1"
  }
 },
 "nbformat": 4,
 "nbformat_minor": 5
}
